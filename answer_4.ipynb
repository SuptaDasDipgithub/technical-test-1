{
  "nbformat": 4,
  "nbformat_minor": 0,
  "metadata": {
    "colab": {
      "provenance": []
    },
    "kernelspec": {
      "name": "python3",
      "display_name": "Python 3"
    },
    "language_info": {
      "name": "python"
    }
  },
  "cells": [
    {
      "cell_type": "code",
      "execution_count": 18,
      "metadata": {
        "id": "NCYeFJdG4gPb"
      },
      "outputs": [],
      "source": [
        "import re"
      ]
    },
    {
      "cell_type": "code",
      "source": [
        "def find_email_and_phone(text):\n",
        "    email_pattern = r'[a-zA-Z0-9._%+-]+@[a-zA-Z0-9.-]+\\.[a-zA-Z]{2,}'\n",
        "    emails = re.findall(email_pattern, text)\n",
        "\n",
        "    phone_pattern = r'\\+?\\d[\\d -]{8,}\\d'\n",
        "    phones = re.findall(phone_pattern, text)\n",
        "\n",
        "    # Create a dictionary to store results\n",
        "    result = {\n",
        "        'emails': emails,\n",
        "        'phones': phones\n",
        "    }\n",
        "    return result"
      ],
      "metadata": {
        "id": "gPGFwogj5AfF"
      },
      "execution_count": 19,
      "outputs": []
    },
    {
      "cell_type": "code",
      "source": [
        "text = \"Contact us at support@example.com or call us at +1-800-555-1234. For international support, reach out to info@company.org or +44 20 7946 0958.\""
      ],
      "metadata": {
        "id": "OFQjTfhM6LLi"
      },
      "execution_count": 20,
      "outputs": []
    },
    {
      "cell_type": "code",
      "source": [
        "data = find_email_and_phone(text)"
      ],
      "metadata": {
        "id": "Q7y-JMan7PSn"
      },
      "execution_count": 21,
      "outputs": []
    },
    {
      "cell_type": "code",
      "source": [
        "print(data)"
      ],
      "metadata": {
        "colab": {
          "base_uri": "https://localhost:8080/"
        },
        "id": "2-4SZtrE_HAg",
        "outputId": "35568058-ef7a-4490-c4e2-27e838423a1c"
      },
      "execution_count": 22,
      "outputs": [
        {
          "output_type": "stream",
          "name": "stdout",
          "text": [
            "{'emails': ['support@example.com', 'info@company.org'], 'phones': ['+1-800-555-1234', '+44 20 7946 0958']}\n"
          ]
        }
      ]
    }
  ]
}