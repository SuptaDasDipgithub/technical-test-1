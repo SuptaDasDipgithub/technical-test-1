{
  "nbformat": 4,
  "nbformat_minor": 0,
  "metadata": {
    "colab": {
      "provenance": []
    },
    "kernelspec": {
      "name": "python3",
      "display_name": "Python 3"
    },
    "language_info": {
      "name": "python"
    }
  },
  "cells": [
    {
      "cell_type": "code",
      "execution_count": 12,
      "metadata": {
        "id": "NCYeFJdG4gPb"
      },
      "outputs": [],
      "source": [
        "import nltk\n",
        "from nltk.tokenize import RegexpTokenizer"
      ]
    },
    {
      "cell_type": "code",
      "source": [
        "tokenizer = RegexpTokenizer(\"[\\w']+\")"
      ],
      "metadata": {
        "id": "gPGFwogj5AfF"
      },
      "execution_count": 13,
      "outputs": []
    },
    {
      "cell_type": "code",
      "source": [
        "tokenizer.tokenize(\"I'm Supta Das Dip\")"
      ],
      "metadata": {
        "colab": {
          "base_uri": "https://localhost:8080/"
        },
        "id": "OFQjTfhM6LLi",
        "outputId": "4436949f-084d-428f-f44e-f71873219ebd"
      },
      "execution_count": 14,
      "outputs": [
        {
          "output_type": "execute_result",
          "data": {
            "text/plain": [
              "[\"I'm\", 'Supta', 'Das', 'Dip']"
            ]
          },
          "metadata": {},
          "execution_count": 14
        }
      ]
    },
    {
      "cell_type": "code",
      "source": [
        "tokenizer = RegexpTokenizer('\\s+',gaps=True)"
      ],
      "metadata": {
        "id": "Q7y-JMan7PSn"
      },
      "execution_count": 16,
      "outputs": []
    },
    {
      "cell_type": "code",
      "source": [
        "tokenizer.tokenize(\"I'm Supta Das Dip\")"
      ],
      "metadata": {
        "colab": {
          "base_uri": "https://localhost:8080/"
        },
        "id": "2-4SZtrE_HAg",
        "outputId": "c386ceda-5c3d-4756-d4c6-22f09e0d273b"
      },
      "execution_count": 17,
      "outputs": [
        {
          "output_type": "execute_result",
          "data": {
            "text/plain": [
              "[\"I'm\", 'Supta', 'Das', 'Dip']"
            ]
          },
          "metadata": {},
          "execution_count": 17
        }
      ]
    }
  ]
}